{
 "cells": [
  {
   "cell_type": "code",
   "execution_count": 1,
   "metadata": {},
   "outputs": [],
   "source": [
    "import tensorflow as tf\n",
    "import matplotlib.pyplot as plt"
   ]
  },
  {
   "cell_type": "code",
   "execution_count": 2,
   "metadata": {},
   "outputs": [],
   "source": [
    "# processedImage1 = \"./data_source/2/preprocessed_images\"\n",
    "# baseImage1 = \"./data_source/2/image_data\"\n",
    "# baseImage2 = \"./data_source/1/2_cataract\"\n",
    "train_dir = \"./datasets/train\"\n",
    "validation_dir = \"./datasets/validation\""
   ]
  },
  {
   "cell_type": "code",
   "execution_count": 3,
   "metadata": {},
   "outputs": [
    {
     "name": "stdout",
     "output_type": "stream",
     "text": [
      "Found 800 images belonging to 2 classes.\n",
      "Found 200 images belonging to 2 classes.\n"
     ]
    }
   ],
   "source": [
    "from tensorflow.keras.preprocessing.image import ImageDataGenerator\n",
    "\n",
    "# All images will be rescaled by 1./255.\n",
    "train_datagen = ImageDataGenerator( rescale = 1.0/255. )\n",
    "test_datagen  = ImageDataGenerator( rescale = 1.0/255. )\n",
    "\n",
    "# --------------------\n",
    "# Flow training images in batches of 32 using train_datagen generator\n",
    "# --------------------\n",
    "train_generator = train_datagen.flow_from_directory(train_dir,\n",
    "                                                    batch_size=32,\n",
    "                                                    class_mode='binary',\n",
    "                                                    target_size=(256, 256))     \n",
    "\n",
    "# --------------------\n",
    "# Flow validation images in batches of 16 using test_datagen generator\n",
    "# --------------------\n",
    "validation_generator =  test_datagen.flow_from_directory(validation_dir,\n",
    "                                                         batch_size=16,\n",
    "                                                         class_mode  = 'binary',\n",
    "                                                         target_size = (256, 256))\n"
   ]
  },
  {
   "cell_type": "code",
   "execution_count": 32,
   "metadata": {},
   "outputs": [
    {
     "name": "stdout",
     "output_type": "stream",
     "text": [
      "Model: \"sequential_8\"\n",
      "_________________________________________________________________\n",
      "Layer (type)                 Output Shape              Param #   \n",
      "=================================================================\n",
      "conv2d_24 (Conv2D)           (None, 254, 254, 16)      448       \n",
      "_________________________________________________________________\n",
      "max_pooling2d_24 (MaxPooling (None, 127, 127, 16)      0         \n",
      "_________________________________________________________________\n",
      "conv2d_25 (Conv2D)           (None, 125, 125, 32)      4640      \n",
      "_________________________________________________________________\n",
      "max_pooling2d_25 (MaxPooling (None, 62, 62, 32)        0         \n",
      "_________________________________________________________________\n",
      "conv2d_26 (Conv2D)           (None, 60, 60, 64)        18496     \n",
      "_________________________________________________________________\n",
      "max_pooling2d_26 (MaxPooling (None, 30, 30, 64)        0         \n",
      "_________________________________________________________________\n",
      "flatten_8 (Flatten)          (None, 57600)             0         \n",
      "_________________________________________________________________\n",
      "dense_32 (Dense)             (None, 512)               29491712  \n",
      "_________________________________________________________________\n",
      "dropout_7 (Dropout)          (None, 512)               0         \n",
      "_________________________________________________________________\n",
      "dense_33 (Dense)             (None, 256)               131328    \n",
      "_________________________________________________________________\n",
      "dropout_8 (Dropout)          (None, 256)               0         \n",
      "_________________________________________________________________\n",
      "dense_34 (Dense)             (None, 256)               65792     \n",
      "_________________________________________________________________\n",
      "dense_35 (Dense)             (None, 1)                 257       \n",
      "=================================================================\n",
      "Total params: 29,712,673\n",
      "Trainable params: 29,712,673\n",
      "Non-trainable params: 0\n",
      "_________________________________________________________________\n"
     ]
    }
   ],
   "source": [
    "model = tf.keras.models.Sequential([\n",
    "    tf.keras.layers.Conv2D(16, (3,3), activation='relu', input_shape=(256, 256, 3)),\n",
    "    tf.keras.layers.MaxPooling2D(2,2),\n",
    "    tf.keras.layers.Conv2D(32, (3,3), activation='relu'),\n",
    "    tf.keras.layers.MaxPooling2D(2,2), \n",
    "    tf.keras.layers.Conv2D(64, (3,3), activation='relu'), \n",
    "    tf.keras.layers.MaxPooling2D(2,2),\n",
    "    # Flatten the results to feed into a DNN\n",
    "    tf.keras.layers.Flatten(), \n",
    "    # 512 neuron hidden layer\n",
    "    tf.keras.layers.Dense(512, activation='relu', kernel_regularizer='l2'), \n",
    "    # adding dropout layer\n",
    "    tf.keras.layers.Dropout(0.5),\n",
    "    # 256 neuron hidden layer\n",
    "    tf.keras.layers.Dense(256, activation='relu', kernel_regularizer='l2'),\n",
    "    # adding dropout layer\n",
    "    tf.keras.layers.Dropout(0.5),\n",
    "    # 256 neuron hidden layer\n",
    "    tf.keras.layers.Dense(256, activation='relu', kernel_regularizer='l2'), \n",
    "    # Only 1 output neuron. It will contain a value from 0-1 where 1 for 1 class ('cataract') and 0 for the other ('normal')\n",
    "    tf.keras.layers.Dense(1, activation='sigmoid')  \n",
    "])\n",
    "model.summary()"
   ]
  },
  {
   "cell_type": "code",
   "execution_count": null,
   "metadata": {},
   "outputs": [],
   "source": [
    "# model 1 (16, 32, 64 conv2d)(512 neuron) [optimizer= RMSprop, loss=binary_crossentropy]\n",
    "# model 2 (16, 32, 64 conv2d)(256 neuron) [optimizer= RMSprop, loss=binary_crossentropy]\n",
    "# model 4 (16, 32, 64 conv2d)(256, 128, 128 neuron) [optimizer= RMSprop, loss=binary_crossentropy]\n",
    "# model 5 (16, 32, 64 conv2d)(256(l2), 128, 128 neuron) [optimizer= RMSprop, loss=binary_crossentropy]\n",
    "# model 6 (16, 32, 64 conv2d)(256(l2), dropout(0.2), 128, dropout(0.2), 128 neuron) [optimizer= RMSprop, loss=binary_crossentropy]\n",
    "# model 7 (16, 32, 64 conv2d)(512(l2), dropout(0.5), 256(l2), dropout(0.5), 256(l2) neuron) [optimizer= RMSprop, loss=binary_crossentropy] [step per epoch=25]"
   ]
  },
  {
   "cell_type": "code",
   "execution_count": 33,
   "metadata": {},
   "outputs": [],
   "source": [
    "from tensorflow.keras.optimizers import RMSprop\n",
    "\n",
    "model.compile(optimizer=RMSprop(learning_rate=0.001),\n",
    "              loss='binary_crossentropy',\n",
    "              metrics = ['accuracy'])"
   ]
  },
  {
   "cell_type": "code",
   "execution_count": 35,
   "metadata": {},
   "outputs": [
    {
     "name": "stdout",
     "output_type": "stream",
     "text": [
      "Epoch 1/50\n",
      "25/25 [==============================] - 78s 3s/step - loss: 3.8128 - accuracy: 0.5562 - val_loss: 3.0278 - val_accuracy: 0.5417\n",
      "Epoch 2/50\n",
      "25/25 [==============================] - 77s 3s/step - loss: 2.4963 - accuracy: 0.5638 - val_loss: 2.3316 - val_accuracy: 0.4896\n",
      "Epoch 3/50\n",
      "25/25 [==============================] - 77s 3s/step - loss: 1.6421 - accuracy: 0.5875 - val_loss: 1.3127 - val_accuracy: 0.6302\n",
      "Epoch 4/50\n",
      "25/25 [==============================] - 78s 3s/step - loss: 1.1312 - accuracy: 0.5925 - val_loss: 1.8083 - val_accuracy: 0.5104\n",
      "Epoch 5/50\n",
      "25/25 [==============================] - 76s 3s/step - loss: 0.9760 - accuracy: 0.6275 - val_loss: 0.8631 - val_accuracy: 0.6458\n",
      "Epoch 6/50\n",
      "25/25 [==============================] - 77s 3s/step - loss: 0.8989 - accuracy: 0.6275 - val_loss: 0.8105 - val_accuracy: 0.6354\n",
      "Epoch 7/50\n",
      "25/25 [==============================] - 77s 3s/step - loss: 0.7891 - accuracy: 0.6500 - val_loss: 0.8219 - val_accuracy: 0.6094\n",
      "Epoch 8/50\n",
      "25/25 [==============================] - 77s 3s/step - loss: 0.8087 - accuracy: 0.6450 - val_loss: 0.7966 - val_accuracy: 0.6458\n",
      "Epoch 9/50\n",
      "25/25 [==============================] - 111s 4s/step - loss: 0.7844 - accuracy: 0.6300 - val_loss: 0.7811 - val_accuracy: 0.6094\n",
      "Epoch 10/50\n",
      "25/25 [==============================] - 98s 4s/step - loss: 0.7623 - accuracy: 0.6600 - val_loss: 0.7692 - val_accuracy: 0.6615\n",
      "Epoch 11/50\n",
      "25/25 [==============================] - 94s 4s/step - loss: 0.7940 - accuracy: 0.6550 - val_loss: 0.7860 - val_accuracy: 0.6510\n",
      "Epoch 12/50\n",
      "25/25 [==============================] - 77s 3s/step - loss: 0.7403 - accuracy: 0.6600 - val_loss: 0.7791 - val_accuracy: 0.6615\n",
      "Epoch 13/50\n",
      "25/25 [==============================] - 78s 3s/step - loss: 0.7526 - accuracy: 0.6525 - val_loss: 0.7589 - val_accuracy: 0.6615\n",
      "Epoch 14/50\n",
      "25/25 [==============================] - 79s 3s/step - loss: 0.7260 - accuracy: 0.6850 - val_loss: 0.9231 - val_accuracy: 0.5156\n",
      "Epoch 15/50\n",
      "25/25 [==============================] - 78s 3s/step - loss: 0.7308 - accuracy: 0.6888 - val_loss: 0.7373 - val_accuracy: 0.6979\n",
      "Epoch 16/50\n",
      "25/25 [==============================] - 78s 3s/step - loss: 0.7113 - accuracy: 0.7125 - val_loss: 0.7325 - val_accuracy: 0.7031\n",
      "Epoch 17/50\n",
      "25/25 [==============================] - 78s 3s/step - loss: 0.7184 - accuracy: 0.7075 - val_loss: 0.7721 - val_accuracy: 0.7240\n",
      "Epoch 18/50\n",
      "25/25 [==============================] - 77s 3s/step - loss: 0.7029 - accuracy: 0.7188 - val_loss: 0.7805 - val_accuracy: 0.6354\n",
      "Epoch 19/50\n",
      "25/25 [==============================] - 78s 3s/step - loss: 0.7122 - accuracy: 0.7225 - val_loss: 0.7545 - val_accuracy: 0.6719\n",
      "Epoch 20/50\n",
      "25/25 [==============================] - 80s 3s/step - loss: 0.6998 - accuracy: 0.7525 - val_loss: 0.8163 - val_accuracy: 0.6615\n",
      "Epoch 21/50\n",
      "25/25 [==============================] - 90s 4s/step - loss: 0.6960 - accuracy: 0.7163 - val_loss: 0.7101 - val_accuracy: 0.7708\n",
      "Epoch 22/50\n",
      "25/25 [==============================] - 89s 3s/step - loss: 0.6943 - accuracy: 0.7487 - val_loss: 0.7069 - val_accuracy: 0.7448\n",
      "Epoch 23/50\n",
      "25/25 [==============================] - 109s 4s/step - loss: 0.6800 - accuracy: 0.7563 - val_loss: 0.6831 - val_accuracy: 0.7708\n",
      "Epoch 24/50\n",
      "25/25 [==============================] - 113s 5s/step - loss: 0.6619 - accuracy: 0.7713 - val_loss: 1.3021 - val_accuracy: 0.5833\n",
      "Epoch 25/50\n",
      "25/25 [==============================] - 104s 4s/step - loss: 0.7140 - accuracy: 0.7513 - val_loss: 0.6867 - val_accuracy: 0.7500\n",
      "Epoch 26/50\n",
      "25/25 [==============================] - 108s 4s/step - loss: 0.6890 - accuracy: 0.7525 - val_loss: 0.6625 - val_accuracy: 0.7760\n",
      "Epoch 27/50\n",
      "25/25 [==============================] - 97s 4s/step - loss: 0.6650 - accuracy: 0.7775 - val_loss: 0.6622 - val_accuracy: 0.7760\n",
      "Epoch 28/50\n",
      "25/25 [==============================] - 97s 4s/step - loss: 0.6402 - accuracy: 0.7812 - val_loss: 0.6856 - val_accuracy: 0.7396\n",
      "Epoch 29/50\n",
      "25/25 [==============================] - 88s 3s/step - loss: 0.6484 - accuracy: 0.7987 - val_loss: 0.7213 - val_accuracy: 0.7656\n",
      "Epoch 30/50\n",
      "25/25 [==============================] - 90s 4s/step - loss: 0.6493 - accuracy: 0.7788 - val_loss: 0.6455 - val_accuracy: 0.8073\n",
      "Epoch 31/50\n",
      "25/25 [==============================] - 89s 4s/step - loss: 0.6450 - accuracy: 0.7987 - val_loss: 0.6456 - val_accuracy: 0.8177\n",
      "Epoch 32/50\n",
      "25/25 [==============================] - 86s 3s/step - loss: 0.6305 - accuracy: 0.8100 - val_loss: 0.7536 - val_accuracy: 0.7240\n",
      "Epoch 33/50\n",
      "25/25 [==============================] - 93s 4s/step - loss: 0.6030 - accuracy: 0.8200 - val_loss: 0.6567 - val_accuracy: 0.7604\n",
      "Epoch 34/50\n",
      "25/25 [==============================] - 90s 4s/step - loss: 0.6055 - accuracy: 0.8200 - val_loss: 0.6731 - val_accuracy: 0.8073\n",
      "Epoch 35/50\n",
      "25/25 [==============================] - 88s 4s/step - loss: 0.5978 - accuracy: 0.8413 - val_loss: 0.8369 - val_accuracy: 0.7240\n",
      "Epoch 36/50\n",
      "25/25 [==============================] - 83s 3s/step - loss: 0.6016 - accuracy: 0.8225 - val_loss: 0.5767 - val_accuracy: 0.8542\n",
      "Epoch 37/50\n",
      "25/25 [==============================] - 79s 3s/step - loss: 0.5677 - accuracy: 0.8425 - val_loss: 0.6598 - val_accuracy: 0.8073\n",
      "Epoch 38/50\n",
      "25/25 [==============================] - 77s 3s/step - loss: 0.5856 - accuracy: 0.8450 - val_loss: 0.6175 - val_accuracy: 0.8229\n",
      "Epoch 39/50\n",
      "25/25 [==============================] - 78s 3s/step - loss: 0.5486 - accuracy: 0.8587 - val_loss: 0.5911 - val_accuracy: 0.8177\n",
      "Epoch 40/50\n",
      "25/25 [==============================] - 80s 3s/step - loss: 0.5346 - accuracy: 0.8637 - val_loss: 0.6868 - val_accuracy: 0.7865\n",
      "Epoch 41/50\n",
      "25/25 [==============================] - 77s 3s/step - loss: 0.5785 - accuracy: 0.8550 - val_loss: 0.6374 - val_accuracy: 0.8385\n",
      "Epoch 42/50\n",
      "25/25 [==============================] - 78s 3s/step - loss: 0.5320 - accuracy: 0.8750 - val_loss: 0.6301 - val_accuracy: 0.8281\n",
      "Epoch 43/50\n",
      "25/25 [==============================] - 77s 3s/step - loss: 0.4995 - accuracy: 0.8838 - val_loss: 0.5605 - val_accuracy: 0.8385\n",
      "Epoch 44/50\n",
      "25/25 [==============================] - 78s 3s/step - loss: 0.5158 - accuracy: 0.8925 - val_loss: 0.4989 - val_accuracy: 0.8854\n",
      "Epoch 45/50\n",
      "25/25 [==============================] - 108s 4s/step - loss: 0.4704 - accuracy: 0.9025 - val_loss: 0.4434 - val_accuracy: 0.9115\n",
      "Epoch 46/50\n",
      "25/25 [==============================] - 113s 4s/step - loss: 0.5183 - accuracy: 0.8825 - val_loss: 0.5199 - val_accuracy: 0.8750\n",
      "Epoch 47/50\n",
      "25/25 [==============================] - 81s 3s/step - loss: 0.4603 - accuracy: 0.9038 - val_loss: 0.3975 - val_accuracy: 0.9271\n",
      "Epoch 48/50\n",
      "25/25 [==============================] - 78s 3s/step - loss: 0.4950 - accuracy: 0.9050 - val_loss: 0.7539 - val_accuracy: 0.7760\n",
      "Epoch 49/50\n",
      "25/25 [==============================] - 80s 3s/step - loss: 0.4599 - accuracy: 0.9087 - val_loss: 0.4716 - val_accuracy: 0.8854\n",
      "Epoch 50/50\n",
      "25/25 [==============================] - 79s 3s/step - loss: 0.4599 - accuracy: 0.9013 - val_loss: 0.4978 - val_accuracy: 0.8698\n"
     ]
    },
    {
     "data": {
      "text/plain": [
       "<tensorflow.python.keras.callbacks.History at 0x22a061cb850>"
      ]
     },
     "execution_count": 35,
     "metadata": {},
     "output_type": "execute_result"
    }
   ],
   "source": [
    "model.fit(train_generator,\n",
    "            validation_data=validation_generator,\n",
    "            steps_per_epoch=25,\n",
    "            epochs=50,\n",
    "            validation_steps=12)"
   ]
  },
  {
   "cell_type": "code",
   "execution_count": 36,
   "metadata": {},
   "outputs": [
    {
     "data": {
      "image/png": "[encoded data removed]",
      "text/plain": [
       "<Figure size 432x288 with 1 Axes>"
      ]
     },
     "metadata": {
      "needs_background": "light"
     },
     "output_type": "display_data"
    },
    {
     "data": {
      "image/png": "[encoded data removed]",
      "text/plain": [
       "<Figure size 432x288 with 1 Axes>"
      ]
     },
     "metadata": {
      "needs_background": "light"
     },
     "output_type": "display_data"
    }
   ],
   "source": [
    "#-----------------------------------------------------------\n",
    "# Retrieve a list of list results on training and test data\n",
    "# sets for each training epoch\n",
    "#-----------------------------------------------------------\n",
    "acc      = model.history.history['accuracy']\n",
    "val_acc  = model.history.history['val_accuracy']\n",
    "loss     = model.history.history['loss']\n",
    "val_loss = model.history.history['val_loss']\n",
    "\n",
    "epochs   = range(len(acc)) # Get number of epochs\n",
    "\n",
    "#------------------------------------------------\n",
    "# Plot training and validation accuracy per epoch\n",
    "#------------------------------------------------\n",
    "plt.plot(epochs, acc)\n",
    "plt.plot(epochs, val_acc)\n",
    "plt.legend([\"train\", \"validation\"])\n",
    "plt.title('Training and validation accuracy')\n",
    "plt.show()\n",
    "\n",
    "#------------------------------------------------\n",
    "# Plot training and validation loss per epoch\n",
    "#------------------------------------------------\n",
    "plt.plot(epochs, loss)\n",
    "plt.plot(epochs, val_loss)\n",
    "plt.legend([\"train\", \"validation\"])\n",
    "plt.title('Training and validation loss')\n",
    "plt.show()"
   ]
  },
  {
   "cell_type": "code",
   "execution_count": 37,
   "metadata": {},
   "outputs": [],
   "source": [
    "model.save(\"./model/cataract_model_7.h5\")"
   ]
  },
  {
   "cell_type": "code",
   "execution_count": 43,
   "metadata": {},
   "outputs": [
    {
     "name": "stdout",
     "output_type": "stream",
     "text": [
      "INFO:tensorflow:Assets written to: C:\\Users\\user\\AppData\\Local\\Temp\\tmp1x56bbd3\\assets\n"
     ]
    },
    {
     "name": "stderr",
     "output_type": "stream",
     "text": [
      "INFO:tensorflow:Assets written to: C:\\Users\\user\\AppData\\Local\\Temp\\tmp1x56bbd3\\assets\n"
     ]
    }
   ],
   "source": [
    "converter = tf.lite.TFLiteConverter.from_keras_model(model)\n",
    "tflite_model = converter.convert()\n",
    "\n",
    "# Save the model.\n",
    "with open('./model/model.tflite', 'wb') as f:\n",
    "    f.write(tflite_model)"
   ]
  },
  {
   "cell_type": "code",
   "execution_count": 44,
   "metadata": {},
   "outputs": [],
   "source": [
    "import cv2\n",
    "import os\n",
    "import numpy as np\n",
    "# from PIL import Image\n",
    "from keras.preprocessing import image"
   ]
  },
  {
   "cell_type": "code",
   "execution_count": 53,
   "metadata": {},
   "outputs": [
    {
     "name": "stdout",
     "output_type": "stream",
     "text": [
      "[1.]\n",
      "2112_right.jpg is a cataract\n"
     ]
    }
   ],
   "source": [
    "# predicting images\n",
    "path = \"./datasets/validation/cataract/2112_right.jpg\"\n",
    "img = image.load_img(path, target_size=(256,256))\n",
    "x = image.img_to_array(img)\n",
    "x = np.expand_dims(x, axis=0)\n",
    "\n",
    "images = np.vstack([x])\n",
    "classes = model.predict(images)\n",
    "print(classes[0])\n",
    "if classes[0]>0.5:\n",
    "    print(\"2112_right.jpg is a cataract\")\n",
    "else:\n",
    "    print(\"2112_right.jpg is a normal\")"
   ]
  },
  {
   "cell_type": "code",
   "execution_count": 30,
   "metadata": {},
   "outputs": [],
   "source": [
    "model_new = tf.keras.models.load_model('./model/cataract_model_4.h5')"
   ]
  },
  {
   "cell_type": "code",
   "execution_count": 31,
   "metadata": {},
   "outputs": [
    {
     "name": "stdout",
     "output_type": "stream",
     "text": [
      "Model: \"sequential_4\"\n",
      "_________________________________________________________________\n",
      "Layer (type)                 Output Shape              Param #   \n",
      "=================================================================\n",
      "conv2d_12 (Conv2D)           (None, 254, 254, 16)      448       \n",
      "_________________________________________________________________\n",
      "max_pooling2d_12 (MaxPooling (None, 127, 127, 16)      0         \n",
      "_________________________________________________________________\n",
      "conv2d_13 (Conv2D)           (None, 125, 125, 32)      4640      \n",
      "_________________________________________________________________\n",
      "max_pooling2d_13 (MaxPooling (None, 62, 62, 32)        0         \n",
      "_________________________________________________________________\n",
      "conv2d_14 (Conv2D)           (None, 60, 60, 64)        18496     \n",
      "_________________________________________________________________\n",
      "max_pooling2d_14 (MaxPooling (None, 30, 30, 64)        0         \n",
      "_________________________________________________________________\n",
      "flatten_4 (Flatten)          (None, 57600)             0         \n",
      "_________________________________________________________________\n",
      "dense_16 (Dense)             (None, 256)               14745856  \n",
      "_________________________________________________________________\n",
      "dense_17 (Dense)             (None, 128)               32896     \n",
      "_________________________________________________________________\n",
      "dense_18 (Dense)             (None, 128)               16512     \n",
      "_________________________________________________________________\n",
      "dense_19 (Dense)             (None, 1)                 129       \n",
      "=================================================================\n",
      "Total params: 14,818,977\n",
      "Trainable params: 14,818,977\n",
      "Non-trainable params: 0\n",
      "_________________________________________________________________\n"
     ]
    }
   ],
   "source": [
    "model_new.summary()"
   ]
  },
  {
   "cell_type": "code",
   "execution_count": 62,
   "metadata": {},
   "outputs": [
    {
     "name": "stdout",
     "output_type": "stream",
     "text": [
      "[1.]\n",
      "n is a cataract\n"
     ]
    }
   ],
   "source": [
    "# predicting images\n",
    "# path = \"./datasets/validation/cataract/2112_right.jpg\"\n",
    "path = \"./Normal.jpg\"\n",
    "img = image.load_img(path, target_size=(256,256))\n",
    "x = image.img_to_array(img)\n",
    "x = np.expand_dims(x, axis=0)\n",
    "\n",
    "images = np.vstack([x])\n",
    "classes = model_new.predict(images)\n",
    "print(classes[0])\n",
    "if classes[0]>0.5:\n",
    "    print(\"n is a cataract\")\n",
    "else:\n",
    "    print(\"n is a normal\")"
   ]
  },
  {
   "cell_type": "code",
   "execution_count": null,
   "metadata": {},
   "outputs": [],
   "source": []
  }
 ],
 "metadata": {
  "kernelspec": {
   "display_name": "Python 3",
   "language": "python",
   "name": "python3"
  },
  "language_info": {
   "codemirror_mode": {
    "name": "ipython",
    "version": 3
   },
   "file_extension": ".py",
   "mimetype": "text/x-python",
   "name": "python",
   "nbconvert_exporter": "python",
   "pygments_lexer": "ipython3",
   "version": "3.8.5"
  }
 },
 "nbformat": 4,
 "nbformat_minor": 4
}
